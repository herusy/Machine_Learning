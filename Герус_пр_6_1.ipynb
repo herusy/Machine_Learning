{
  "nbformat": 4,
  "nbformat_minor": 0,
  "metadata": {
    "colab": {
      "provenance": [],
      "include_colab_link": true
    },
    "kernelspec": {
      "name": "python3",
      "display_name": "Python 3"
    },
    "language_info": {
      "name": "python"
    }
  },
  "cells": [
    {
      "cell_type": "markdown",
      "metadata": {
        "id": "view-in-github",
        "colab_type": "text"
      },
      "source": [
        "<a href=\"https://colab.research.google.com/github/herusy/Machine_Learning/blob/main/%D0%93%D0%B5%D1%80%D1%83%D1%81_%D0%BF%D1%80_6_1.ipynb\" target=\"_parent\"><img src=\"https://colab.research.google.com/assets/colab-badge.svg\" alt=\"Open In Colab\"/></a>"
      ]
    },
    {
      "cell_type": "markdown",
      "source": [
        "Герус Я.О. ФІТ 4-8"
      ],
      "metadata": {
        "id": "qqPgm8S99i07"
      }
    },
    {
      "cell_type": "code",
      "execution_count": null,
      "metadata": {
        "id": "83qlsfQG9JY4"
      },
      "outputs": [],
      "source": [
        "import numpy as np\n",
        "import matplotlib.pyplot as plt\n",
        "from sklearn.datasets import fetch_california_housing\n",
        "from sklearn.model_selection import train_test_split, cross_val_score\n",
        "from sklearn.linear_model import LinearRegression, Ridge, Lasso\n",
        "from sklearn.metrics import mean_squared_error, r2_score"
      ]
    },
    {
      "cell_type": "code",
      "source": [
        "# 1. Завантаження даних\n",
        "\n",
        "california_data = fetch_california_housing()\n",
        "\n",
        "X = california_data.data\n",
        "y = california_data.target\n",
        "\n",
        "X_train, X_test, y_train, y_test = train_test_split(X, y, test_size=0.2, random_state=42)"
      ],
      "metadata": {
        "id": "k2iwNkIf_wzn"
      },
      "execution_count": null,
      "outputs": []
    },
    {
      "cell_type": "code",
      "source": [
        "# 2. Побудова та оцінка регресійної моделі\n",
        "\n",
        "lr_model = LinearRegression()\n",
        "lr_model.fit(X_train, y_train)\n",
        "y_train_pred = lr_model.predict(X_train)\n",
        "y_test_pred = lr_model.predict(X_test)\n",
        "\n",
        "train_mse = mean_squared_error(y_train, y_train_pred)\n",
        "test_mse = mean_squared_error(y_test, y_test_pred)\n",
        "train_r2 = r2_score(y_train, y_train_pred)\n",
        "test_r2 = r2_score(y_test, y_test_pred)\n",
        "\n",
        "print(f\"Базова модель (Лінійна регресія):\")\n",
        "print(f\"Навчальні дані: MSE = {train_mse:.2f}, R^2 = {train_r2:.2f}\")\n",
        "print(f\"Тестові дані: MSE = {test_mse:.2f}, R^2 = {test_r2:.2f}\")"
      ],
      "metadata": {
        "colab": {
          "base_uri": "https://localhost:8080/"
        },
        "id": "fnqZPt2vAcq7",
        "outputId": "b76d4dd0-4c4d-4e08-a9e5-f5b5be755711"
      },
      "execution_count": null,
      "outputs": [
        {
          "output_type": "stream",
          "name": "stdout",
          "text": [
            "Базова модель (Лінійна регресія):\n",
            "Навчальні дані: MSE = 0.52, R^2 = 0.61\n",
            "Тестові дані: MSE = 0.56, R^2 = 0.58\n"
          ]
        }
      ]
    },
    {
      "cell_type": "markdown",
      "source": [
        "# 3. Аналіз перенавчання\n",
        " Різниця між MSE і R² на навчальних і тестових вибірках незначна. Це означає, що модель показує схожі результати на обох наборах даних, що свідчить про відсутність перенавчання."
      ],
      "metadata": {
        "id": "iUWq2idmDChE"
      }
    },
    {
      "cell_type": "code",
      "source": [
        "# 4. Запобігання перенавчанню\n",
        "\n",
        "alphas = np.logspace(0, 4, 100)\n",
        "\n",
        "# Ridge Regression\n",
        "ridge_cv_scores = []\n",
        "for alpha in alphas:\n",
        "    ridge_model = Ridge(alpha=alpha)\n",
        "    scores = cross_val_score(ridge_model, X_train, y_train, cv=5, scoring='neg_mean_squared_error')\n",
        "    ridge_cv_scores.append(-scores.mean())\n",
        "\n",
        "# Lasso Regression\n",
        "lasso_cv_scores = []\n",
        "for alpha in alphas:\n",
        "    lasso_model = Lasso(alpha=alpha)\n",
        "    scores = cross_val_score(lasso_model, X_train, y_train, cv=5, scoring='neg_mean_squared_error')\n",
        "    lasso_cv_scores.append(-scores.mean())\n",
        "\n",
        "\n",
        "best_ridge_alpha = alphas[np.argmin(ridge_cv_scores)]\n",
        "best_lasso_alpha = alphas[np.argmin(lasso_cv_scores)]\n",
        "\n",
        "print(f\"Найкраще значення alpha для Ridge: {best_ridge_alpha}\")\n",
        "print(f\"Найкраще значення alpha для Lasso: {best_lasso_alpha}\")\n"
      ],
      "metadata": {
        "colab": {
          "base_uri": "https://localhost:8080/"
        },
        "id": "p5tW7kNbCAcw",
        "outputId": "61affdbe-df32-41d5-92ed-170eeb8d603f"
      },
      "execution_count": null,
      "outputs": [
        {
          "output_type": "stream",
          "name": "stdout",
          "text": [
            "Найкраще значення alpha для Ridge: 8.497534359086444\n",
            "Найкраще значення alpha для Lasso: 1.0\n"
          ]
        }
      ]
    },
    {
      "cell_type": "code",
      "source": [
        "# 5. Оцінка результатів\n",
        "\n",
        "ridge_model = Ridge(alpha=best_ridge_alpha)\n",
        "ridge_model.fit(X_train, y_train)\n",
        "ridge_y_test_pred = ridge_model.predict(X_test)\n",
        "\n",
        "lasso_model = Lasso(alpha=best_lasso_alpha)\n",
        "lasso_model.fit(X_train, y_train)\n",
        "lasso_y_test_pred = lasso_model.predict(X_test)\n",
        "\n",
        "ridge_test_mse = mean_squared_error(y_test, ridge_y_test_pred)\n",
        "lasso_test_mse = mean_squared_error(y_test, lasso_y_test_pred)\n",
        "ridge_test_r2 = r2_score(y_test, ridge_y_test_pred)\n",
        "lasso_test_r2 = r2_score(y_test, lasso_y_test_pred)\n",
        "\n",
        "print(f\"Ridge Regression: MSE = {ridge_test_mse:.2f}, R^2 = {ridge_test_r2:.2f}\")\n",
        "print(f\"Lasso Regression: MSE = {lasso_test_mse:.2f}, R^2 = {lasso_test_r2:.2f}\")"
      ],
      "metadata": {
        "colab": {
          "base_uri": "https://localhost:8080/"
        },
        "id": "BXq5fhPYFVyk",
        "outputId": "b0f198da-4b70-4745-d273-56d9d0a1c54e"
      },
      "execution_count": null,
      "outputs": [
        {
          "output_type": "stream",
          "name": "stdout",
          "text": [
            "Ridge Regression: MSE = 0.56, R^2 = 0.58\n",
            "Lasso Regression: MSE = 0.94, R^2 = 0.28\n"
          ]
        }
      ]
    },
    {
      "cell_type": "code",
      "source": [
        "# 6. Візуалізація результатів регуляризації\n",
        "\n",
        "plt.figure(figsize=(10, 6))\n",
        "plt.semilogx(alphas, ridge_cv_scores, label='Ridge')\n",
        "plt.semilogx(alphas, lasso_cv_scores, label='Lasso')\n",
        "plt.xlabel('Alpha')\n",
        "plt.ylabel('Cross-validated MSE')\n",
        "plt.title('Перехресна валідація для Ridge та Lasso')\n",
        "plt.legend()\n",
        "plt.grid(True)\n",
        "plt.show()"
      ],
      "metadata": {
        "colab": {
          "base_uri": "https://localhost:8080/",
          "height": 569
        },
        "id": "Xjg5AsqGGUnZ",
        "outputId": "ff324520-1f97-4d48-fe8d-ca6d6bdc3000"
      },
      "execution_count": null,
      "outputs": [
        {
          "output_type": "display_data",
          "data": {
            "text/plain": [
              "<Figure size 1000x600 with 1 Axes>"
            ],
            "image/png": "[encoded data removed]"
          },
          "metadata": {}
        }
      ]
    },
    {
      "cell_type": "markdown",
      "source": [
        "Висновок: Ridge Regression продемонструвала кращі результати порівняно з Lasso Regression, забезпечивши більш стабільні значення MSE та R². Завдяки регуляризації вдалося уникнути перенавчання, що призвело до підвищення якості тестової моделі в випадку з Ridge Regression."
      ],
      "metadata": {
        "id": "uhazyfvWG_Y3"
      }
    }
  ]
}