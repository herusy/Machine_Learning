{
  "nbformat": 4,
  "nbformat_minor": 0,
  "metadata": {
    "colab": {
      "provenance": [],
      "gpuType": "T4",
      "include_colab_link": true
    },
    "kernelspec": {
      "name": "python3",
      "display_name": "Python 3"
    },
    "language_info": {
      "name": "python"
    },
    "accelerator": "GPU"
  },
  "cells": [
    {
      "cell_type": "markdown",
      "metadata": {
        "id": "view-in-github",
        "colab_type": "text"
      },
      "source": [
        "<a href=\"https://colab.research.google.com/github/herusy/Machine_Learning/blob/main/%D0%93%D0%B5%D1%80%D1%83%D1%81_%D0%BF%D1%80_7_2.ipynb\" target=\"_parent\"><img src=\"https://colab.research.google.com/assets/colab-badge.svg\" alt=\"Open In Colab\"/></a>"
      ]
    },
    {
      "cell_type": "markdown",
      "source": [
        "Герус Я.О. ФІТ 4-8"
      ],
      "metadata": {
        "id": "xl-0eUfxTBEt"
      }
    },
    {
      "cell_type": "code",
      "source": [
        "!pip install scikit-surprise"
      ],
      "metadata": {
        "colab": {
          "base_uri": "https://localhost:8080/"
        },
        "id": "hwUUnQToEX__",
        "outputId": "c457f79d-e0e9-4dc0-c340-aa1e79ca0a6c"
      },
      "execution_count": null,
      "outputs": [
        {
          "output_type": "stream",
          "name": "stdout",
          "text": [
            "Collecting scikit-surprise\n",
            "  Downloading scikit_surprise-1.1.4.tar.gz (154 kB)\n",
            "\u001b[?25l     \u001b[90m━━━━━━━━━━━━━━━━━━━━━━━━━━━━━━━━━━━━━━━━\u001b[0m \u001b[32m0.0/154.4 kB\u001b[0m \u001b[31m?\u001b[0m eta \u001b[36m-:--:--\u001b[0m\r\u001b[2K     \u001b[90m━━━━━━━━━━━━━━━━━━━━━━━━━━━━━━━━━━━━━━━━\u001b[0m \u001b[32m154.4/154.4 kB\u001b[0m \u001b[31m4.3 MB/s\u001b[0m eta \u001b[36m0:00:00\u001b[0m\n",
            "\u001b[?25h  Installing build dependencies ... \u001b[?25l\u001b[?25hdone\n",
            "  Getting requirements to build wheel ... \u001b[?25l\u001b[?25hdone\n",
            "  Preparing metadata (pyproject.toml) ... \u001b[?25l\u001b[?25hdone\n",
            "Requirement already satisfied: joblib>=1.2.0 in /usr/local/lib/python3.10/dist-packages (from scikit-surprise) (1.4.2)\n",
            "Requirement already satisfied: numpy>=1.19.5 in /usr/local/lib/python3.10/dist-packages (from scikit-surprise) (1.26.4)\n",
            "Requirement already satisfied: scipy>=1.6.0 in /usr/local/lib/python3.10/dist-packages (from scikit-surprise) (1.13.1)\n",
            "Building wheels for collected packages: scikit-surprise\n",
            "  Building wheel for scikit-surprise (pyproject.toml) ... \u001b[?25l\u001b[?25hdone\n",
            "  Created wheel for scikit-surprise: filename=scikit_surprise-1.1.4-cp310-cp310-linux_x86_64.whl size=2357283 sha256=06259cf390842415779202d8aa95389ea80ad4fef7da2bb0fae6026684b54bd8\n",
            "  Stored in directory: /root/.cache/pip/wheels/4b/3f/df/6acbf0a40397d9bf3ff97f582cc22fb9ce66adde75bc71fd54\n",
            "Successfully built scikit-surprise\n",
            "Installing collected packages: scikit-surprise\n",
            "Successfully installed scikit-surprise-1.1.4\n"
          ]
        }
      ]
    },
    {
      "cell_type": "code",
      "source": [
        "from surprise import Dataset, Reader\n",
        "from surprise import SVD, KNNBasic\n",
        "from surprise.model_selection import cross_validate, GridSearchCV\n",
        "from surprise import accuracy\n",
        "from surprise.model_selection import train_test_split\n",
        "import pandas as pd\n",
        "from google.colab import drive\n",
        "\n",
        "\n",
        "drive.mount('/content/drive')"
      ],
      "metadata": {
        "id": "r20RQjKRbcdu",
        "colab": {
          "base_uri": "https://localhost:8080/"
        },
        "outputId": "5b0815e0-f7a4-4601-af97-0d26538c9e58"
      },
      "execution_count": null,
      "outputs": [
        {
          "output_type": "stream",
          "name": "stdout",
          "text": [
            "Mounted at /content/drive\n"
          ]
        }
      ]
    },
    {
      "cell_type": "code",
      "source": [
        "# Завантаження датасета для рецензій BX-Book-Ratings.csv за допомогою бібліотеки\n",
        "#Surprise та виведення перших 5 рядків завантаженого датасету.\n",
        "\n",
        "file_path = '/content/drive/My Drive/BX-Book-Ratings.csv'\n",
        "df = pd.read_csv(file_path, delimiter=';', encoding='latin1', nrows=10000)\n",
        "\n",
        "reader = Reader(rating_scale=(1, 10))\n",
        "data = Dataset.load_from_df(df[['User-ID', 'ISBN', 'Book-Rating']], reader)\n",
        "\n",
        "for row in data.raw_ratings[:5]:\n",
        "    print(row[:3])"
      ],
      "metadata": {
        "colab": {
          "base_uri": "https://localhost:8080/"
        },
        "id": "NuPcHgtSEvKW",
        "outputId": "e7479bc7-f0f1-4948-e9ab-284e5a14ee5d"
      },
      "execution_count": null,
      "outputs": [
        {
          "output_type": "stream",
          "name": "stdout",
          "text": [
            "(276725, '034545104X', 0.0)\n",
            "(276726, '0155061224', 5.0)\n",
            "(276727, '0446520802', 0.0)\n",
            "(276729, '052165615X', 3.0)\n",
            "(276729, '0521795028', 6.0)\n"
          ]
        }
      ]
    },
    {
      "cell_type": "code",
      "source": [
        "print(\"Перші 5 рядків датасету з поясненням:\")\n",
        "for row in data.raw_ratings[:5]:\n",
        "    user_id, book_id, rating, timestamp = row\n",
        "    print(f\"Користувач {user_id} оцінив книгу {book_id} на {rating} балів)\")"
      ],
      "metadata": {
        "colab": {
          "base_uri": "https://localhost:8080/"
        },
        "id": "W6y56adUX7Ic",
        "outputId": "19157b89-1005-483f-c08b-5a29da860e75"
      },
      "execution_count": null,
      "outputs": [
        {
          "output_type": "stream",
          "name": "stdout",
          "text": [
            "Перші 5 рядків датасету з поясненням:\n",
            "Користувач 276725 оцінив книгу 034545104X на 0.0 балів)\n",
            "Користувач 276726 оцінив книгу 0155061224 на 5.0 балів)\n",
            "Користувач 276727 оцінив книгу 0446520802 на 0.0 балів)\n",
            "Користувач 276729 оцінив книгу 052165615X на 3.0 балів)\n",
            "Користувач 276729 оцінив книгу 0521795028 на 6.0 балів)\n"
          ]
        }
      ]
    },
    {
      "cell_type": "code",
      "source": [
        "# Реалізація двох алгоритмів для рекомендаційної системи на основі цього\n",
        "#датасету. Використання крос-валідації для підбору оптимальних параметрів для\n",
        "# обох алгоритмів.\n",
        "\n",
        "trainset, testset = train_test_split(data, test_size=0.2)\n",
        "param_grid_svd = {\n",
        "    'n_factors': [20, 150],\n",
        "    'lr_all': [0.002, 0.008],\n",
        "    'reg_all': [0.01, 0.1]\n",
        "}\n",
        "\n",
        "param_grid_knn = {\n",
        "    'k': [10, 50],\n",
        "    'min_k': [3, 7],\n",
        "    'sim_options': {\n",
        "        'name': ['msd', 'pearson'],\n",
        "        'user_based': [True]\n",
        "    }\n",
        "}\n",
        "\n",
        "\n",
        "grid_search_svd = GridSearchCV(SVD, param_grid_svd, measures=['rmse', 'mae'], cv=5)\n",
        "grid_search_svd.fit(data)\n",
        "\n",
        "grid_search_knn = GridSearchCV(KNNBasic, param_grid_knn, measures=['rmse', 'mae'], cv=5)\n",
        "grid_search_knn.fit(data)"
      ],
      "metadata": {
        "id": "hpr_-GRzKuQn",
        "colab": {
          "base_uri": "https://localhost:8080/"
        },
        "outputId": "61f01e5c-a330-4d58-89a1-68b5109bfa38"
      },
      "execution_count": null,
      "outputs": [
        {
          "output_type": "stream",
          "name": "stdout",
          "text": [
            "Computing the msd similarity matrix...\n",
            "Done computing similarity matrix.\n",
            "Computing the msd similarity matrix...\n",
            "Done computing similarity matrix.\n",
            "Computing the msd similarity matrix...\n",
            "Done computing similarity matrix.\n",
            "Computing the msd similarity matrix...\n",
            "Done computing similarity matrix.\n",
            "Computing the msd similarity matrix...\n",
            "Done computing similarity matrix.\n",
            "Computing the pearson similarity matrix...\n",
            "Done computing similarity matrix.\n",
            "Computing the pearson similarity matrix...\n",
            "Done computing similarity matrix.\n",
            "Computing the pearson similarity matrix...\n",
            "Done computing similarity matrix.\n",
            "Computing the pearson similarity matrix...\n",
            "Done computing similarity matrix.\n",
            "Computing the pearson similarity matrix...\n",
            "Done computing similarity matrix.\n",
            "Computing the msd similarity matrix...\n",
            "Done computing similarity matrix.\n",
            "Computing the msd similarity matrix...\n",
            "Done computing similarity matrix.\n",
            "Computing the msd similarity matrix...\n",
            "Done computing similarity matrix.\n",
            "Computing the msd similarity matrix...\n",
            "Done computing similarity matrix.\n",
            "Computing the msd similarity matrix...\n",
            "Done computing similarity matrix.\n",
            "Computing the pearson similarity matrix...\n",
            "Done computing similarity matrix.\n",
            "Computing the pearson similarity matrix...\n",
            "Done computing similarity matrix.\n",
            "Computing the pearson similarity matrix...\n",
            "Done computing similarity matrix.\n",
            "Computing the pearson similarity matrix...\n",
            "Done computing similarity matrix.\n",
            "Computing the pearson similarity matrix...\n",
            "Done computing similarity matrix.\n",
            "Computing the msd similarity matrix...\n",
            "Done computing similarity matrix.\n",
            "Computing the msd similarity matrix...\n",
            "Done computing similarity matrix.\n",
            "Computing the msd similarity matrix...\n",
            "Done computing similarity matrix.\n",
            "Computing the msd similarity matrix...\n",
            "Done computing similarity matrix.\n",
            "Computing the msd similarity matrix...\n",
            "Done computing similarity matrix.\n",
            "Computing the pearson similarity matrix...\n",
            "Done computing similarity matrix.\n",
            "Computing the pearson similarity matrix...\n",
            "Done computing similarity matrix.\n",
            "Computing the pearson similarity matrix...\n",
            "Done computing similarity matrix.\n",
            "Computing the pearson similarity matrix...\n",
            "Done computing similarity matrix.\n",
            "Computing the pearson similarity matrix...\n",
            "Done computing similarity matrix.\n",
            "Computing the msd similarity matrix...\n",
            "Done computing similarity matrix.\n",
            "Computing the msd similarity matrix...\n",
            "Done computing similarity matrix.\n",
            "Computing the msd similarity matrix...\n",
            "Done computing similarity matrix.\n",
            "Computing the msd similarity matrix...\n",
            "Done computing similarity matrix.\n",
            "Computing the msd similarity matrix...\n",
            "Done computing similarity matrix.\n",
            "Computing the pearson similarity matrix...\n",
            "Done computing similarity matrix.\n",
            "Computing the pearson similarity matrix...\n",
            "Done computing similarity matrix.\n",
            "Computing the pearson similarity matrix...\n",
            "Done computing similarity matrix.\n",
            "Computing the pearson similarity matrix...\n",
            "Done computing similarity matrix.\n",
            "Computing the pearson similarity matrix...\n",
            "Done computing similarity matrix.\n"
          ]
        }
      ]
    },
    {
      "cell_type": "code",
      "source": [
        "best_svd = grid_search_svd.best_estimator['mae']\n",
        "best_knn = grid_search_knn.best_estimator['mae']\n",
        "\n",
        "print(f\"Найкращий MAE для SVD: {grid_search_svd.best_score['mae']}\")\n",
        "print(f\"Найкращий MAE для KNNBasic: {grid_search_knn.best_score['mae']}\")\n",
        "\n",
        "# Вибір моделі з найменшим MAE\n",
        "\n",
        "if grid_search_svd.best_score['mae'] < grid_search_knn.best_score['mae']:\n",
        "    best_model = best_svd\n",
        "    print(\"Вибраний алгоритм: SVD\")\n",
        "else:\n",
        "    best_model = best_knn\n",
        "    print(\"Вибраний алгоритм: KNNBasic\")"
      ],
      "metadata": {
        "colab": {
          "base_uri": "https://localhost:8080/"
        },
        "id": "KQ5GfbszqZCy",
        "outputId": "1d00ace7-b075-4477-f0f2-3d5be6fd0319"
      },
      "execution_count": null,
      "outputs": [
        {
          "output_type": "stream",
          "name": "stdout",
          "text": [
            "Найкращий MAE для SVD: 2.253418001544779\n",
            "Найкращий MAE для KNNBasic: 2.90601032896515\n",
            "Вибраний алгоритм: SVD\n"
          ]
        }
      ]
    },
    {
      "cell_type": "code",
      "source": [
        "# Виведення доступних користувачів з оригінальними ID\n",
        "available_user_ids = [trainset.to_raw_uid(uid) for uid in trainset.all_users()]\n",
        "print(\"Оригінальні ID користувачів у навчальному наборі:\", available_user_ids[:100])"
      ],
      "metadata": {
        "colab": {
          "base_uri": "https://localhost:8080/"
        },
        "id": "u5I7DPHN7uez",
        "outputId": "57b50b1d-ab7b-4fff-fb8c-79ca22ab73c7"
      },
      "execution_count": null,
      "outputs": [
        {
          "output_type": "stream",
          "name": "stdout",
          "text": [
            "Оригінальні ID користувачів у навчальному наборі: [277705, 278418, 278356, 277478, 277639, 183, 277427, 277879, 277954, 277945, 277982, 278465, 277229, 276786, 278017, 278137, 278724, 277928, 278512, 276754, 278665, 242, 276946, 277195, 53, 278221, 277882, 276875, 277272, 276925, 243, 278648, 277203, 278633, 278188, 278535, 276811, 276737, 276847, 278723, 278843, 277523, 278026, 277256, 278851, 278582, 278144, 276929, 277186, 39, 277378, 278002, 277433, 276822, 276954, 278554, 276856, 278663, 277746, 277457, 277930, 278568, 277134, 278692, 277087, 277872, 278586, 277908, 178, 277918, 277168, 99, 278245, 276726, 277938, 276939, 278506, 12, 278849, 278771, 277187, 278361, 278714, 278524, 277157, 277554, 276866, 278194, 278253, 277847, 277180, 278466, 278064, 277589, 278694, 176, 278668, 277042, 278218, 277901]\n"
          ]
        }
      ]
    },
    {
      "cell_type": "code",
      "source": [
        "# Виведення 10 рекомендацій книг для конкретного користувача.\n",
        "\n",
        "best_model.fit(trainset)\n",
        "\n",
        "user_id = 276949\n",
        "\n",
        "user_ratings = trainset.ur[trainset.to_inner_uid(user_id)]\n",
        "print(f\"Кількість рецензій користувача {user_id}: {len(user_ratings)}\")\n",
        "\n",
        "all_items = set(trainset.all_items())\n",
        "rated_items = set([item for (item, _) in user_ratings])\n",
        "unrated_items = all_items - rated_items\n",
        "\n",
        "predictions = [(item, best_model.predict(user_id, trainset.to_raw_iid(item)).est) for item in unrated_items]\n",
        "predictions.sort(key=lambda x: x[1], reverse=True)\n",
        "\n",
        "print(\"Топ-10 книг, рекомендованих для користувача:\")\n",
        "for item_id, rating in predictions[:10]:\n",
        "    print(f\"Книга {trainset.to_raw_iid(item_id)} з прогнозованим рейтингом {rating:.2f}\")\n",
        "\n"
      ],
      "metadata": {
        "colab": {
          "base_uri": "https://localhost:8080/"
        },
        "id": "4reqElYWrSWw",
        "outputId": "8f0af6f2-1071-43e8-bdb0-a5f6e76198a7"
      },
      "execution_count": null,
      "outputs": [
        {
          "output_type": "stream",
          "name": "stdout",
          "text": [
            "Кількість рецензій користувача 276949: 1\n",
            "Топ-10 книг, рекомендованих для користувача:\n",
            "Книга 0440414121 з прогнозованим рейтингом 5.37\n",
            "Книга 0142001740 з прогнозованим рейтингом 5.15\n",
            "Книга 0452282152 з прогнозованим рейтингом 5.06\n",
            "Книга 0394820371 з прогнозованим рейтингом 4.79\n",
            "Книга 0312195516 з прогнозованим рейтингом 4.72\n",
            "Книга 0671027360 з прогнозованим рейтингом 4.68\n",
            "Книга 0440241073 з прогнозованим рейтингом 4.68\n",
            "Книга 0440225701 з прогнозованим рейтингом 4.59\n",
            "Книга 0446310786 з прогнозованим рейтингом 4.52\n",
            "Книга 0767902890 з прогнозованим рейтингом 4.47\n"
          ]
        }
      ]
    },
    {
      "cell_type": "markdown",
      "source": [
        "**Висновок:** виконавши дану лабораторну роботу, реалізувала два алгоритми для рекомендаційної системи на основі датасету BX-Book-Ratings.csv, використовуючи крос-валідацію для обох алгоритмів, та вивела рекомендації 10 книг для конкретного користувача."
      ],
      "metadata": {
        "id": "OCZSwIOqCR6V"
      }
    }
  ]
}