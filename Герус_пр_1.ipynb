{
  "metadata": {
    "kernelspec": {
      "name": "python",
      "display_name": "Python (Pyodide)",
      "language": "python"
    },
    "language_info": {
      "codemirror_mode": {
        "name": "python",
        "version": 3
      },
      "file_extension": ".py",
      "mimetype": "text/x-python",
      "name": "python",
      "nbconvert_exporter": "python",
      "pygments_lexer": "ipython3",
      "version": "3.8"
    },
    "colab": {
      "provenance": [],
      "include_colab_link": true
    }
  },
  "nbformat_minor": 5,
  "nbformat": 4,
  "cells": [
    {
      "cell_type": "markdown",
      "metadata": {
        "id": "view-in-github",
        "colab_type": "text"
      },
      "source": [
        "<a href=\"https://colab.research.google.com/github/herusy/Machine_Learning/blob/main/%D0%93%D0%B5%D1%80%D1%83%D1%81_%D0%BF%D1%80_1.ipynb\" target=\"_parent\"><img src=\"https://colab.research.google.com/assets/colab-badge.svg\" alt=\"Open In Colab\"/></a>"
      ]
    },
    {
      "id": "87a88f6e-0e87-4089-92eb-83c8904ea245",
      "cell_type": "code",
      "source": [
        "# Герус Ярослав ФІТ 4-8 Варіант 6"
      ],
      "metadata": {
        "id": "87a88f6e-0e87-4089-92eb-83c8904ea245"
      },
      "outputs": [],
      "execution_count": null
    },
    {
      "id": "8ead3aa1-6f35-4e11-a296-5422bc269e25",
      "cell_type": "code",
      "source": [
        "import numpy as np"
      ],
      "metadata": {
        "trusted": true,
        "id": "8ead3aa1-6f35-4e11-a296-5422bc269e25"
      },
      "outputs": [],
      "execution_count": null
    },
    {
      "id": "bd2cb431-c94b-4b09-a015-4791c9d16470",
      "cell_type": "code",
      "source": [
        "#1 Створіть одновимірний масив (вектор) з числами Фібоначчі, де кожне число дорівнює сумі двох попередніх, та виведіть його значення.\n",
        "def fibonacci_arr(n):\n",
        "    fib_arr = np.zeros(n, dtype=int)\n",
        "    fib_arr[0] = 0\n",
        "    if n > 1:\n",
        "        fib_arr[1] = 1\n",
        "        for i in range(2, n):\n",
        "            fib_arr[i] = fib_arr[i-1] + fib_arr[i-2]\n",
        "    return fib_arr\n",
        "\n",
        "n = 10\n",
        "fib_arr = fibonacci_arr(n)\n",
        "print(fib_arr)\n"
      ],
      "metadata": {
        "trusted": true,
        "colab": {
          "base_uri": "https://localhost:8080/"
        },
        "id": "bd2cb431-c94b-4b09-a015-4791c9d16470",
        "outputId": "aad32a1f-3321-4721-9299-8530f457d13f"
      },
      "outputs": [
        {
          "output_type": "stream",
          "name": "stdout",
          "text": [
            "[ 0  1  1  2  3  5  8 13 21 34]\n"
          ]
        }
      ],
      "execution_count": null
    },
    {
      "id": "c3b2dbe6-93c4-4462-9ab7-d3ea94a51846",
      "cell_type": "code",
      "source": [
        "#2 Створіть двовимірний масив (матрицю) розміром 3x3, заповніть його значеннями експонент n^2 для кожного натурального числа n,\n",
        "# починаючи з 1, та виведіть його значення.\n",
        "def matrix(n):\n",
        "    arr1 = np.arange(1, 10)\n",
        "    arr1 = arr1 ** 2\n",
        "    matrix = arr1.reshape(3, 3)\n",
        "\n",
        "    return matrix\n",
        "\n",
        "arr1 = matrix(n)\n",
        "print(arr1)\n"
      ],
      "metadata": {
        "trusted": true,
        "colab": {
          "base_uri": "https://localhost:8080/"
        },
        "id": "c3b2dbe6-93c4-4462-9ab7-d3ea94a51846",
        "outputId": "b74406df-b626-455b-b8a0-06cc57b890f6"
      },
      "outputs": [
        {
          "output_type": "stream",
          "name": "stdout",
          "text": [
            "[[ 1  4  9]\n",
            " [16 25 36]\n",
            " [49 64 81]]\n"
          ]
        }
      ],
      "execution_count": null
    },
    {
      "id": "37b31e63-b662-4dc5-bdfa-6c8677849889",
      "cell_type": "code",
      "source": [
        "#3 Створіть масив розміром 3x3, заповніть його випадковими дійсними числами від -1 до 1 та виведіть його значення.\n",
        "matrix = np.random.rand(3, 3)\n",
        "matrix = 2 * matrix - 1\n",
        "print(matrix)"
      ],
      "metadata": {
        "trusted": true,
        "colab": {
          "base_uri": "https://localhost:8080/"
        },
        "id": "37b31e63-b662-4dc5-bdfa-6c8677849889",
        "outputId": "dcf7298e-262e-499b-e04c-659ab3b77601"
      },
      "outputs": [
        {
          "output_type": "stream",
          "name": "stdout",
          "text": [
            "[[-0.44262578 -0.82538776 -0.93102061]\n",
            " [-0.72409307 -0.93531834  0.26607328]\n",
            " [-0.27790975 -0.15430026  0.75013428]]\n"
          ]
        }
      ],
      "execution_count": null
    },
    {
      "id": "3f513782-1ba5-4186-8352-cf55b2c077d5",
      "cell_type": "code",
      "source": [
        "#4 Створіть масив розміром 3x3, заповніть його випадковими дійсними числами в\n",
        "# діапазоні від 0 до 1 та знайдіть середнє геометричне всіх елементів.\n",
        "\n",
        "matrix = np.random.rand(3, 3)\n",
        "product = 1\n",
        "n = 0\n",
        "\n",
        "for i in range(matrix.shape[0]):\n",
        "    for j in range(matrix.shape[1]):\n",
        "        product *= matrix[i, j]\n",
        "        n += 1\n",
        "\n",
        "geometric_mean = product ** (1 / n)\n",
        "\n",
        "print(\"Matrix:\\n\", matrix)\n",
        "print(\"\\nGeometric Mean:\\n\", geometric_mean)\n"
      ],
      "metadata": {
        "trusted": true,
        "colab": {
          "base_uri": "https://localhost:8080/"
        },
        "id": "3f513782-1ba5-4186-8352-cf55b2c077d5",
        "outputId": "ff46a8dd-a969-4ecf-d1e6-0015351032d2"
      },
      "outputs": [
        {
          "output_type": "stream",
          "name": "stdout",
          "text": [
            "Matrix:\n",
            " [[0.12742317 0.89110534 0.01589967]\n",
            " [0.24352503 0.50529157 0.16422945]\n",
            " [0.58605763 0.53580777 0.3655832 ]]\n",
            "\n",
            "Geometric Mean:\n",
            " 0.2526088901363246\n"
          ]
        }
      ],
      "execution_count": null
    },
    {
      "id": "78d8c97e-0041-4a98-86df-e389373de4be",
      "cell_type": "code",
      "source": [
        "#5 Створіть два одновимірних масиви розміром 6, заповніть їх випадковими дійсними\n",
        "# числами від -5 до 5 та виконайте на них поелементні операції додавання, віднімання\n",
        "# та множення.\n",
        "\n",
        "arr1 = np.random.rand(6) * 10 - 5\n",
        "arr2 = np.random.rand(6) * 10 - 5\n",
        "\n",
        "sum_result = arr1 + arr2\n",
        "difference_result = arr1 - arr2\n",
        "product_result = arr1 * arr2\n",
        "\n",
        "print(\"arr1 =\", arr1)\n",
        "print(\"\\narr2 =\", arr2)\n",
        "print(\"\\nSum of elements =\", sum_result)\n",
        "print(\"\\nDifference of elements =\", difference_result)\n",
        "print(\"\\nProduct of elements =\", product_result)"
      ],
      "metadata": {
        "trusted": true,
        "id": "78d8c97e-0041-4a98-86df-e389373de4be",
        "outputId": "81a84f22-f2ba-4466-dd51-f01ffd81baec"
      },
      "outputs": [
        {
          "name": "stdout",
          "text": "arr1 = [-2.29424305 -0.58329185  3.10636726  2.89602653 -2.28417096  2.65263375]\n\narr2 = [-0.38518836  4.82254829 -0.66590992  2.56598166 -4.22841869  3.63028572]\n\nSum of elements = [-2.67943141  4.23925645  2.44045734  5.46200819 -6.51258965  6.28291947]\n\nDifference of elements = [-1.90905469 -5.40584014  3.77227718  0.33004486  1.94424774 -0.97765197]\n\nProduct of elements = [ 0.88371572 -2.81295309 -2.06856078  7.43115096  9.65843117  9.62981841]\n",
          "output_type": "stream"
        }
      ],
      "execution_count": null
    },
    {
      "id": "7b96a72f-8654-4055-8a77-c66ffd8f2b62",
      "cell_type": "code",
      "source": [
        "#6 Створіть дві матриці 5x5, заповніть їх довільними цілими числами від 1 до 10 та\n",
        "# знайдіть їх добуток.\n",
        "\n",
        "matrix1 = np.random.randint(1, 11, (5, 5))\n",
        "matrix2 = np.random.randint(1, 11, (5, 5))\n",
        "\n",
        "result = np.dot(matrix1, matrix2)\n",
        "\n",
        "print(\"Matrix 1:\\n\", matrix1)\n",
        "print(\"\\nMatrix 2:\\n\", matrix2)\n",
        "print(\"\\nProduct of Matrix 1 and Matrix 2:\\n\", result)"
      ],
      "metadata": {
        "trusted": true,
        "id": "7b96a72f-8654-4055-8a77-c66ffd8f2b62",
        "outputId": "9c50c42f-39da-42ec-b5c9-4e741af0561c"
      },
      "outputs": [
        {
          "name": "stdout",
          "text": "Matrix 1:\n [[ 9  4  8  1  2]\n [ 7  4  5  5  1]\n [ 4  3  9  2  2]\n [ 2  5  8  5  6]\n [10  8  9  3 10]]\n\nMatrix 2:\n [[ 5  7  3  9  7]\n [ 2  5  4 10  1]\n [ 9  6  1  1  6]\n [ 1  5  8  4  1]\n [ 4  5  7 10 10]]\n\nProduct of Matrix 1 and Matrix 2:\n [[134 146  73 153 136]\n [ 97 129  89 138  98]\n [117 117  63 103 107]\n [121 142 116 156 132]\n [190 229 165 291 235]]\n",
          "output_type": "stream"
        }
      ],
      "execution_count": null
    },
    {
      "id": "624b4fb9-4f22-4b98-801b-22d287d422c6",
      "cell_type": "code",
      "source": [
        "#7 Створіть дві матриці розміром 3x2 та 2x4, заповніть їх випадковими цілими числами\n",
        "# в діапазоні від 1 до 10 та перемножте їх між собою.\n",
        "\n",
        "matrix1 = np.random.randint(1, 11, (3, 2))\n",
        "matrix2 = np.random.randint(1, 11, (2, 4))\n",
        "\n",
        "result = np.dot(matrix1, matrix2)\n",
        "\n",
        "print(\"Matrix 1 (3x2):\\n\", matrix1)\n",
        "print(\"\\nMatrix 2 (2x4):\\n\", matrix2)\n",
        "print(\"\\nProduct of Matrix 1 and Matrix 2 (3x4):\\n\", result)\n"
      ],
      "metadata": {
        "trusted": true,
        "id": "624b4fb9-4f22-4b98-801b-22d287d422c6",
        "outputId": "b68ca2cc-1120-4bb8-9584-ec537763b54e"
      },
      "outputs": [
        {
          "name": "stdout",
          "text": "Matrix 1 (3x2):\n [[ 7  2]\n [ 2 10]\n [ 4  5]]\n\nMatrix 2 (2x4):\n [[9 7 1 5]\n [4 6 2 8]]\n\nProduct of Matrix 1 and Matrix 2 (3x4):\n [[71 61 11 51]\n [58 74 22 90]\n [56 58 14 60]]\n",
          "output_type": "stream"
        }
      ],
      "execution_count": null
    },
    {
      "id": "3f9cd28b-ea65-4c59-8072-f3fc109ac53e",
      "cell_type": "code",
      "source": [
        "#8 Створіть матрицю розміром 2x2, заповніть її випадковими цілими числами в діапазоні\n",
        "# від 1 до 15 та знайдіть її обернену матрицю.\n",
        "\n",
        "matrix = np.random.randint(1, 16, (2, 2))\n",
        "\n",
        "inverse_matrix = np.linalg.inv(matrix)\n",
        "\n",
        "print(\"Original Matrix (2x2):\\n\", matrix)\n",
        "print(\"\\nInverse Matrix (2x2):\\n\", inverse_matrix)\n"
      ],
      "metadata": {
        "trusted": true,
        "id": "3f9cd28b-ea65-4c59-8072-f3fc109ac53e",
        "outputId": "2a7a6baf-43e5-4eb7-f830-94f88cb6ee45"
      },
      "outputs": [
        {
          "name": "stdout",
          "text": "Original Matrix (2x2):\n [[ 6  1]\n [15 10]]\n\nInverse Matrix (2x2):\n [[ 0.22222222 -0.02222222]\n [-0.33333333  0.13333333]]\n",
          "output_type": "stream"
        }
      ],
      "execution_count": null
    },
    {
      "id": "bcae7280-858c-411b-83a7-c4d0fc8f2adb",
      "cell_type": "code",
      "source": [
        "#9 Створіть матрицю розміром 3x3, заповніть її випадковими цілими числами в діапазоні\n",
        "# від 7 до 15 та транспонуйте її.\n",
        "\n",
        "matrix = np.random.randint(7, 16, (3, 3))\n",
        "\n",
        "transposed_matrix = np.transpose(matrix)\n",
        "\n",
        "print(\"Original Matrix (3x3):\\n\", matrix)\n",
        "print(\"\\nTransposed Matrix (3x3):\\n\", transposed_matrix)\n"
      ],
      "metadata": {
        "trusted": true,
        "id": "bcae7280-858c-411b-83a7-c4d0fc8f2adb",
        "outputId": "a5944512-9a2b-4b55-b7b9-fd117cb56048"
      },
      "outputs": [
        {
          "name": "stdout",
          "text": "Original Matrix (3x3):\n [[14  8 13]\n [ 7  8  9]\n [13 10 12]]\n\nTransposed Matrix (3x3):\n [[14  7 13]\n [ 8  8 10]\n [13  9 12]]\n",
          "output_type": "stream"
        }
      ],
      "execution_count": null
    },
    {
      "id": "98d75cf3-9b10-4d4b-8507-441443a79790",
      "cell_type": "code",
      "source": [
        "#10 Створіть матрицю розміром 3x4 та вектор розміром 4x1, заповніть матрицю випадковими дійсними числами від 0 до 1,\n",
        "# а вектор - випадковими цілими числами в діапазоні від 1 до 10 і знайдіть добуток матриці на вектор.\n",
        "\n",
        "matrix = np.random.rand(3, 4)\n",
        "vector = np.random.randint(1, 11, (4, 1))\n",
        "\n",
        "result = np.dot(matrix, vector)\n",
        "\n",
        "print(\"Matrix (3x4):\\n\", matrix)\n",
        "print(\"\\nVector (4x1):\\n\", vector)\n",
        "print(\"\\nProduct of Matrix and Vector:\\n\", result)\n"
      ],
      "metadata": {
        "trusted": true,
        "id": "98d75cf3-9b10-4d4b-8507-441443a79790",
        "outputId": "c5e455d7-ac7e-4cce-cb71-fc07449a645d"
      },
      "outputs": [
        {
          "name": "stdout",
          "text": "Matrix (3x4):\n [[0.38028674 0.18527166 0.9686078  0.26763797]\n [0.21018496 0.11421828 0.13676129 0.48646612]\n [0.4256444  0.34653252 0.51595912 0.8585871 ]]\n\nVector (4x1):\n [[2]\n [5]\n [5]\n [9]]\n\nProduct of Matrix and Vector:\n [[ 8.93871255]\n [ 6.05346282]\n [12.89103088]]\n",
          "output_type": "stream"
        }
      ],
      "execution_count": null
    },
    {
      "id": "04f1dc56-d4b5-4493-b88b-bbe9d95c6290",
      "cell_type": "code",
      "source": [
        "#11 Створіть матрицю розміром 2x3 та вектор розміром 3x1, заповніть матрицю випадковими дійсними числами від 0 до 1,\n",
        "# а вектор - випадковими цілими числами в діапазоні від 1 до 10, і знайдіть добуток матриці на вектор.\n",
        "\n",
        "matrix = np.random.rand(2, 3)\n",
        "vector = np.random.randint(1, 11, (3, 1))\n",
        "\n",
        "result = np.dot(matrix, vector)\n",
        "\n",
        "print(\"Matrix (2x3):\\n\", matrix)\n",
        "print(\"\\nVector (3x1):\\n\", vector)\n",
        "print(\"\\nProduct of Matrix and Vector:\\n\", result)\n"
      ],
      "metadata": {
        "trusted": true,
        "colab": {
          "base_uri": "https://localhost:8080/",
          "height": 211
        },
        "id": "04f1dc56-d4b5-4493-b88b-bbe9d95c6290",
        "outputId": "532cfd62-c5cf-4c6f-b8b3-d9802d26662d"
      },
      "outputs": [
        {
          "output_type": "error",
          "ename": "NameError",
          "evalue": "name 'np' is not defined",
          "traceback": [
            "\u001b[0;31m---------------------------------------------------------------------------\u001b[0m",
            "\u001b[0;31mNameError\u001b[0m                                 Traceback (most recent call last)",
            "\u001b[0;32m<ipython-input-1-74810c9a7505>\u001b[0m in \u001b[0;36m<cell line: 4>\u001b[0;34m()\u001b[0m\n\u001b[1;32m      2\u001b[0m \u001b[0;31m# а вектор - випадковими цілими числами в діапазоні від 1 до 10, і знайдіть добуток матриці на вектор.\u001b[0m\u001b[0;34m\u001b[0m\u001b[0;34m\u001b[0m\u001b[0m\n\u001b[1;32m      3\u001b[0m \u001b[0;34m\u001b[0m\u001b[0m\n\u001b[0;32m----> 4\u001b[0;31m \u001b[0mmatrix\u001b[0m \u001b[0;34m=\u001b[0m \u001b[0mnp\u001b[0m\u001b[0;34m.\u001b[0m\u001b[0mrandom\u001b[0m\u001b[0;34m.\u001b[0m\u001b[0mrand\u001b[0m\u001b[0;34m(\u001b[0m\u001b[0;36m2\u001b[0m\u001b[0;34m,\u001b[0m \u001b[0;36m3\u001b[0m\u001b[0;34m)\u001b[0m\u001b[0;34m\u001b[0m\u001b[0;34m\u001b[0m\u001b[0m\n\u001b[0m\u001b[1;32m      5\u001b[0m \u001b[0mvector\u001b[0m \u001b[0;34m=\u001b[0m \u001b[0mnp\u001b[0m\u001b[0;34m.\u001b[0m\u001b[0mrandom\u001b[0m\u001b[0;34m.\u001b[0m\u001b[0mrandint\u001b[0m\u001b[0;34m(\u001b[0m\u001b[0;36m1\u001b[0m\u001b[0;34m,\u001b[0m \u001b[0;36m11\u001b[0m\u001b[0;34m,\u001b[0m \u001b[0;34m(\u001b[0m\u001b[0;36m3\u001b[0m\u001b[0;34m,\u001b[0m \u001b[0;36m1\u001b[0m\u001b[0;34m)\u001b[0m\u001b[0;34m)\u001b[0m\u001b[0;34m\u001b[0m\u001b[0;34m\u001b[0m\u001b[0m\n\u001b[1;32m      6\u001b[0m \u001b[0;34m\u001b[0m\u001b[0m\n",
            "\u001b[0;31mNameError\u001b[0m: name 'np' is not defined"
          ]
        }
      ],
      "execution_count": null
    },
    {
      "id": "f455c7f6-b10e-4a95-a718-3cb9903d870b",
      "cell_type": "code",
      "source": [
        "#12 Створіть дві матриці розміром 2x2, заповніть їх випадковими цілими числами в\n",
        "# діапазоні від 1 до 10 та знайдіть суму всіх елементів обох матриць.\n",
        "\n",
        "matrix1 = np.random.randint(1, 11, (2, 2))\n",
        "matrix2 = np.random.randint(1, 11, (2, 2))\n",
        "\n",
        "total_sum = np.sum(matrix1) + np.sum(matrix2)\n",
        "\n",
        "print(\"Matrix 1 (2x2):\\n\", matrix1)\n",
        "print(\"\\nMatrix 2 (2x2):\\n\", matrix2)\n",
        "print(\"\\nSum of all elements in both matrices:\\n\", total_sum)\n"
      ],
      "metadata": {
        "trusted": true,
        "id": "f455c7f6-b10e-4a95-a718-3cb9903d870b",
        "outputId": "7f51728d-1c3f-4301-a64c-900214d2a307"
      },
      "outputs": [
        {
          "name": "stdout",
          "text": "Matrix 1 (2x2):\n [[ 5  8]\n [10  9]]\n\nMatrix 2 (2x2):\n [[ 8 10]\n [ 7 10]]\n\nSum of all elements in both matrices:\n 67\n",
          "output_type": "stream"
        }
      ],
      "execution_count": null
    },
    {
      "id": "7972bfb7-8fac-4a42-8dad-518a643ca007",
      "cell_type": "code",
      "source": [
        "#13 Створіть дві матриці розміром 10x10, заповніть їх випадковими дійсними числами в\n",
        "# діапазоні від -2 до 2 та знайдіть їх добуток.\n",
        "\n",
        "matrix1 = np.random.uniform(-2, 2, (10, 10))\n",
        "matrix2 = np.random.uniform(-2, 2, (10, 10))\n",
        "\n",
        "product_matrix = np.dot(matrix1, matrix2)\n",
        "\n",
        "print(\"Matrix 1 (10x10):\\n\", matrix1)\n",
        "print(\"\\nMatrix 2 (10x10):\\n\", matrix2)\n",
        "print(\"\\nProduct of Matrix 1 and Matrix 2 (10x10):\\n\", product_matrix)\n"
      ],
      "metadata": {
        "trusted": true,
        "id": "7972bfb7-8fac-4a42-8dad-518a643ca007",
        "outputId": "5b729e38-570c-4474-9e8b-b60ea51b7cdf"
      },
      "outputs": [
        {
          "name": "stdout",
          "text": "Matrix 1 (10x10):\n [[ 0.93300081 -1.59658492 -0.23131254  0.07584245  1.98936517  0.12924717\n  -0.87226979  1.42092983 -0.93042539 -1.30334385]\n [ 1.21714602  0.18782719 -0.92973728 -0.97957572 -0.16040918 -0.62068424\n   1.80081446  0.30766441  1.6061403  -0.65636468]\n [ 0.69738191 -1.98311731  1.78449398 -0.46036518 -1.62135413  1.0733264\n   0.53986222 -1.0350555  -0.54848681 -1.28392478]\n [-0.25594093 -1.03687577  1.46627328 -0.51317878  1.23107394  0.21383286\n  -1.37984281 -1.71945644 -1.66871312 -1.1112497 ]\n [ 1.79789751  1.71841654  0.17961761  0.09119954  1.96600901 -1.43907618\n  -1.40890412 -1.66762922 -0.69336506  0.6662673 ]\n [ 0.49708949 -0.77741908  1.67817467 -0.27543575  0.6446425   1.0197441\n   0.3815836   1.99951828 -0.44167036  0.91614221]\n [ 0.34701373 -0.13206793  0.24668057 -1.79020436 -0.97952671 -1.66295651\n   1.30501681  0.56464634  0.44538149 -1.76486031]\n [-0.66639278 -1.62870595 -1.21521349  0.94731316  1.24471082  0.88243093\n  -0.52458255 -1.67966299  0.12390424  1.82067115]\n [ 0.53177211  1.98417471  0.86435994  0.77617602  0.29210939  0.35067738\n   0.05564534  1.76779886 -1.19997465 -0.02387095]\n [ 0.0109846   1.39983296  1.84574498 -0.27676205 -1.61843693 -1.9042112\n   0.49476592 -1.29922617  1.49409466 -0.39835639]]\n\nMatrix 2 (10x10):\n [[ 1.71341275  0.15402612  1.5437001   0.76120999  1.4478667   1.26862892\n   0.07673874  0.94191617  1.96134325  0.10572959]\n [ 1.44312846 -1.4465828   0.87837326  0.74679231  0.18699824  1.73443225\n   1.31647147 -0.13215679 -1.06826958  0.14951725]\n [-0.13057466 -0.17111389 -0.53522343  1.09650339 -1.01069564  0.69436272\n  -0.28240196  0.76828441  0.08844401  1.77346827]\n [ 0.93033109  1.98801268 -0.69800165 -0.6123268   1.96012508 -1.88399474\n  -1.98158678  0.78970411 -0.95341797  1.96582763]\n [ 0.9130841  -1.05337783  1.30072655  0.48001347  0.62276814 -1.87736963\n   1.05076675 -0.52954393 -1.35936692  0.05989623]\n [-1.66717222  0.52276973  0.99061813 -1.92041142 -1.81454723  1.33515731\n  -0.86692016  0.33578719  1.30689549  0.77112219]\n [ 1.09950652  0.49565114 -1.42872184  1.54075686  1.43245174 -0.64726127\n  -1.62699357 -0.2874726  -0.00320517 -0.51051214]\n [-1.51138693  0.01488161  0.68874641  1.59041978 -0.19271116  0.08134122\n   1.14870067  1.89323157 -0.19612324 -1.54797274]\n [ 1.06806238  1.18794264 -1.62710713  0.52652144 -1.83354854 -1.68199598\n   1.28147805  0.02518209 -1.91450327 -0.0347427 ]\n [ 1.63293084  0.28121479  1.82154734  1.18628542 -0.32883215  0.45488399\n   1.005327    0.62778536 -1.68427315 -1.32319753]]\n\nProduct of Matrix 1 and Matrix 2 (10x10):\n [[-5.23238294 -1.26733869  4.18908685 -1.1955763   3.05038572 -3.79897846\n   0.41187923  2.06118328  4.60799346 -0.17973213]\n [ 4.61359029  0.59252062 -3.76817795  5.09306678  1.63452921 -1.59840599\n   1.73574954 -0.79653988  0.40961643 -4.48889139]\n [-6.12257144  3.26414646 -5.27530447 -4.17729278 -2.62373991  3.9333797\n  -8.84400487  0.21075526 11.10362594  5.81209481]\n [-4.35144964 -3.9999455   1.55879628 -5.92439623 -0.89376776  0.89072166\n  -2.65936652 -3.56120481  5.23866057  6.54258135]\n [11.134893   -6.24104927  8.46287299  2.10261674  6.11273201  1.84751714\n   5.64010716 -2.19929959 -2.39690274  2.3960989 ]\n [-3.43527265  0.17231839  4.44665538  4.77996688 -2.44074239  2.1929945\n   0.91095374  5.88368579  1.58205001 -1.29088636]\n [-1.24038584 -2.50617591 -6.79930259  5.30518698  0.651159    1.02312093\n   1.06478489 -1.32248458  3.71345291 -3.62632145]\n [ 2.28032078  3.86896877  2.73049663 -5.98782288 -0.2640252  -6.63471158\n  -2.27317116 -2.84387117 -4.0891857   0.60261623]\n [ 0.13460908 -2.89592602  5.3337553   4.06297654  3.28146133  5.28898992\n   1.25208721  4.76440685  0.31167208  1.00791121]\n [ 6.69028073 -0.29118808 -8.29806019  5.13718541 -1.33233291  1.6206778\n   1.03783659 -1.57195567 -3.27158027  3.60822449]]\n",
          "output_type": "stream"
        }
      ],
      "execution_count": null
    },
    {
      "id": "518dc695-e359-4a10-80aa-e062df4506b7",
      "cell_type": "code",
      "source": [
        "#14 Створіть матрицю розміром 3x3, заповніть її випадковими дійсними числами в\n",
        "# діапазоні від -1 до 1 та знайдіть середнє арифметичне значення елементів матриці.\n",
        "\n",
        "matrix = np.random.uniform(-1, 1, (3, 3))\n",
        "\n",
        "average_value = np.mean(matrix)\n",
        "\n",
        "print(\"Matrix (3x3):\\n\", matrix)\n",
        "print(\"\\nAverage value of the elements in the matrix:\\n\", average_value)\n"
      ],
      "metadata": {
        "trusted": true,
        "id": "518dc695-e359-4a10-80aa-e062df4506b7",
        "outputId": "c6c463cf-06f1-4589-83d6-7e271bf5006e"
      },
      "outputs": [
        {
          "name": "stdout",
          "text": "Matrix (3x3):\n [[ 0.12013412 -0.52719621 -0.3202398 ]\n [-0.49751812 -0.93415102  0.41665462]\n [-0.37152128  0.71583601  0.89839717]]\n\nAverage value of the elements in the matrix:\n -0.05551161239464185\n",
          "output_type": "stream"
        }
      ],
      "execution_count": null
    },
    {
      "id": "7311ab42-f6c6-4994-8a79-dd9bbe490ed7",
      "cell_type": "code",
      "source": [
        "#15 Створіть матрицю розміром 3x3, заповніть її випадковими дійсними числами в діапазоні від 0 до 1 та знайдіть вектор-стовпчик,\n",
        "# що містить суму квадратів елементів кожного рядка матриці\n",
        "\n",
        "matrix = np.random.uniform(0, 1, (3, 3))\n",
        "\n",
        "sum_of_squares = np.sum(matrix**2, axis=1)\n",
        "column_vector = sum_of_squares[:, np.newaxis]\n",
        "\n",
        "print(\"Matrix (3x3):\\n\", matrix)\n",
        "print(\"\\nColumn vector with sum of squares of each row:\\n\", column_vector)\n"
      ],
      "metadata": {
        "trusted": true,
        "id": "7311ab42-f6c6-4994-8a79-dd9bbe490ed7",
        "outputId": "b65aa62d-94fe-4dbe-c1e6-8194555d7f2b"
      },
      "outputs": [
        {
          "name": "stdout",
          "text": "Matrix (3x3):\n [[0.90294999 0.57218408 0.15288324]\n [0.26852061 0.0254162  0.41923106]\n [0.2117935  0.88423073 0.42706899]]\n\nColumn vector with sum of squares of each row:\n [[1.1660866 ]\n [0.24850398]\n [1.00910839]]\n",
          "output_type": "stream"
        }
      ],
      "execution_count": null
    },
    {
      "id": "6fc6c91a-0eed-42de-8273-4cad5d471fff",
      "cell_type": "code",
      "source": [
        "# Висновок: виконавши дану лабораторну роботу, освоїла методи та дії над матрицями."
      ],
      "metadata": {
        "trusted": true,
        "id": "6fc6c91a-0eed-42de-8273-4cad5d471fff"
      },
      "outputs": [],
      "execution_count": null
    }
  ]
}