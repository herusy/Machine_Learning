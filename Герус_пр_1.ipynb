{
  "nbformat": 4,
  "nbformat_minor": 0,
  "metadata": {
    "colab": {
      "provenance": [],
      "authorship_tag": "ABX9TyOfcAMQ3o7Smpg9RJjIKv+v",
      "include_colab_link": true
    },
    "kernelspec": {
      "name": "python3",
      "display_name": "Python 3"
    },
    "language_info": {
      "name": "python"
    }
  },
  "cells": [
    {
      "cell_type": "markdown",
      "metadata": {
        "id": "view-in-github",
        "colab_type": "text"
      },
      "source": [
        "<a href=\"https://colab.research.google.com/github/herusy/Machine_Learning/blob/main/%D0%93%D0%B5%D1%80%D1%83%D1%81_%D0%BF%D1%80_1.ipynb\" target=\"_parent\"><img src=\"https://colab.research.google.com/assets/colab-badge.svg\" alt=\"Open In Colab\"/></a>"
      ]
    },
    {
      "cell_type": "markdown",
      "source": [
        "Лабораторна робота 1\n",
        "Герус Ярослав ФІТ 4-8\n",
        "Варіант 6"
      ],
      "metadata": {
        "id": "1Z5vGnwN4Uhg"
      }
    },
    {
      "cell_type": "markdown",
      "source": [
        "*Створіть одновимірний масив (вектор) з перших 10-ти додатних парних чисел та\n",
        "виведіть його значення.*\n"
      ],
      "metadata": {
        "id": "MGPEpYJi4dkT"
      }
    },
    {
      "cell_type": "code",
      "execution_count": 1,
      "metadata": {
        "colab": {
          "base_uri": "https://localhost:8080/"
        },
        "id": "sQw3LStd4TgG",
        "outputId": "a29dbc97-c849-4a99-e033-191797ffbdfd"
      },
      "outputs": [
        {
          "output_type": "stream",
          "name": "stdout",
          "text": [
            "[ 2  4  6  8 10 12 14 16 18 20]\n"
          ]
        }
      ],
      "source": [
        "import numpy as np\n",
        "\n",
        "even_numbers = np.arange(2, 21, 2)\n",
        "print(even_numbers)\n"
      ]
    },
    {
      "cell_type": "markdown",
      "source": [
        "Створіть двовимірний масив (матрицю) розміром 3x3, заповніть його сумою кожного\n",
        "числа та його попереднього, починаючи з 1, та виведіть його значення."
      ],
      "metadata": {
        "id": "4NzU4-tY5P8a"
      }
    },
    {
      "cell_type": "code",
      "source": [
        "matrix = np.array([[1 + 0, 2 + 1, 3 + 2],\n",
        "                   [4 + 3, 5 + 4, 6 + 5],\n",
        "                   [7 + 6, 8 + 7, 9 + 8]])\n",
        "\n",
        "matrix"
      ],
      "metadata": {
        "colab": {
          "base_uri": "https://localhost:8080/"
        },
        "id": "iTn9PoSM5QBE",
        "outputId": "34cf7833-9e1a-4c09-ce74-5099e4306d8d"
      },
      "execution_count": 2,
      "outputs": [
        {
          "output_type": "execute_result",
          "data": {
            "text/plain": [
              "array([[ 1,  3,  5],\n",
              "       [ 7,  9, 11],\n",
              "       [13, 15, 17]])"
            ]
          },
          "metadata": {},
          "execution_count": 2
        }
      ]
    },
    {
      "cell_type": "markdown",
      "source": [
        "Створіть масив розміром 2x3, заповніть його випадковими цілими числами в діапазоні\n",
        "від -1 до 1 та виведіть його значення."
      ],
      "metadata": {
        "id": "k-DL3NYU5lRM"
      }
    },
    {
      "cell_type": "code",
      "source": [
        "import numpy as np\n",
        "\n",
        "array = np.random.randint(-1, 2, size=(2, 3))\n",
        "\n",
        "print(array)\n"
      ],
      "metadata": {
        "colab": {
          "base_uri": "https://localhost:8080/"
        },
        "id": "KinVLIib5luX",
        "outputId": "bdaa3818-0f00-4461-edd5-8942e02b84dc"
      },
      "execution_count": 3,
      "outputs": [
        {
          "output_type": "stream",
          "name": "stdout",
          "text": [
            "[[-1  1  1]\n",
            " [-1  1  1]]\n"
          ]
        }
      ]
    },
    {
      "cell_type": "markdown",
      "source": [
        "Створіть масив розміром 5x5, заповніть його випадковими дійсними числами в\n",
        "діапазоні від 0 до 1 та знайдіть вектор-стовпчик, що містить суму елементів кожного\n",
        "рядка матриці."
      ],
      "metadata": {
        "id": "SkImaq5l6bjX"
      }
    },
    {
      "cell_type": "code",
      "source": [
        "import numpy as np\n",
        "\n",
        "array = np.random.rand(5, 5)\n",
        "\n",
        "row_sums = np.sum(array, axis=1).reshape(-1, 1)\n",
        "\n",
        "print(array)\n",
        "print(row_sums)\n"
      ],
      "metadata": {
        "colab": {
          "base_uri": "https://localhost:8080/"
        },
        "id": "CYi3Ci-t6bul",
        "outputId": "2cf75a25-6118-43d2-8ca7-f45ab3b75b20"
      },
      "execution_count": 4,
      "outputs": [
        {
          "output_type": "stream",
          "name": "stdout",
          "text": [
            "[[0.76733935 0.85034722 0.51237753 0.82992777 0.84345766]\n",
            " [0.65722126 0.80068233 0.99742365 0.84479945 0.62477639]\n",
            " [0.20810307 0.1562086  0.0604939  0.96311029 0.46441728]\n",
            " [0.32984272 0.82287471 0.45314308 0.32540627 0.33903634]\n",
            " [0.90461106 0.52874743 0.93961958 0.43681194 0.0193764 ]]\n",
            "[[3.80344954]\n",
            " [3.92490309]\n",
            " [1.85233315]\n",
            " [2.27030311]\n",
            " [2.82916641]]\n"
          ]
        }
      ]
    },
    {
      "cell_type": "markdown",
      "source": [
        "Створіть два одновимірних масиви розміром 5, заповніть їх випадковими дійсними\n",
        "числами від 0 до 1 та виконайте на них поелементні операції додавання, віднімання та\n",
        "множення.\n"
      ],
      "metadata": {
        "id": "y7E77Xb16ssb"
      }
    },
    {
      "cell_type": "code",
      "source": [
        "import numpy as np\n",
        "\n",
        "array1 = np.random.rand(5)\n",
        "array2 = np.random.rand(5)\n",
        "\n",
        "addition = array1 + array2\n",
        "subtraction = array1 - array2\n",
        "multiplication = array1 * array2\n",
        "\n",
        "print(\"Array 1:\", array1)\n",
        "print(\"Array 2:\", array2)\n",
        "print(\"Addition:\", addition)\n",
        "print(\"Subtraction:\", subtraction)\n",
        "print(\"Multiplication:\", multiplication)\n"
      ],
      "metadata": {
        "colab": {
          "base_uri": "https://localhost:8080/"
        },
        "id": "7fU5iThu6tD6",
        "outputId": "4695521e-8fe4-4b4d-b718-a53e89763d6e"
      },
      "execution_count": 5,
      "outputs": [
        {
          "output_type": "stream",
          "name": "stdout",
          "text": [
            "Array 1: [0.71954015 0.64666092 0.01502736 0.49547948 0.42599533]\n",
            "Array 2: [0.10827666 0.18631715 0.54222127 0.76833239 0.32414612]\n",
            "Addition: [0.82781681 0.83297806 0.55724863 1.26381187 0.75014145]\n",
            "Subtraction: [ 0.61126349  0.46034377 -0.5271939  -0.27285291  0.10184922]\n",
            "Multiplication: [0.0779094  0.12048402 0.00814816 0.38069293 0.13808473]\n"
          ]
        }
      ]
    },
    {
      "cell_type": "markdown",
      "source": [
        "Створіть дві матриці 3x3, заповніть їх довільними дійсними числами від 5 до 30 та\n",
        "знайдіть їх добуток."
      ],
      "metadata": {
        "id": "Hyr-XhOV7Gvp"
      }
    },
    {
      "cell_type": "code",
      "source": [
        "import numpy as np\n",
        "\n",
        "matrix1 = np.random.uniform(5, 30, (3, 3))\n",
        "matrix2 = np.random.uniform(5, 30, (3, 3))\n",
        "\n",
        "product = np.dot(matrix1, matrix2)\n",
        "\n",
        "print(\"Matrix 1:\\n\", matrix1)\n",
        "print(\"Matrix 2:\\n\", matrix2)\n",
        "print(\"Product:\\n\", product)\n"
      ],
      "metadata": {
        "colab": {
          "base_uri": "https://localhost:8080/"
        },
        "id": "jJCBHWzC7HJo",
        "outputId": "745cbc79-74f0-4317-f252-0f22674bf446"
      },
      "execution_count": 6,
      "outputs": [
        {
          "output_type": "stream",
          "name": "stdout",
          "text": [
            "Matrix 1:\n",
            " [[ 9.89916448 19.94066964 24.19930419]\n",
            " [19.52845176 17.32195428 12.23385556]\n",
            " [18.6489964  13.95893061 22.95379813]]\n",
            "Matrix 2:\n",
            " [[24.43029982  5.36597831 27.60739756]\n",
            " [25.99762156  9.37320465 25.80622664]\n",
            " [21.01850613 19.13460492 15.67663446]]\n",
            "Product:\n",
            " [[1268.88276239  703.07080424 1167.24725529]\n",
            " [1184.55291168  501.24146367 1177.92969123]\n",
            " [1300.95411548  670.1218821  1234.91588759]]\n"
          ]
        }
      ]
    },
    {
      "cell_type": "markdown",
      "source": [
        "Створіть дві матриці розміром 2x3 та 3x4, заповніть їх випадковими цілими числами\n",
        "в діапазоні від 1 до 5 та перемножте їх між собою.\n"
      ],
      "metadata": {
        "id": "MtSLCWhg7Q7i"
      }
    },
    {
      "cell_type": "code",
      "source": [
        "import numpy as np\n",
        "\n",
        "matrix1 = np.random.randint(1, 6, (2, 3))\n",
        "matrix2 = np.random.randint(1, 6, (3, 4))\n",
        "\n",
        "product = np.dot(matrix1, matrix2)\n",
        "\n",
        "print(\"Matrix 1:\\n\", matrix1)\n",
        "print(\"Matrix 2:\\n\", matrix2)\n",
        "print(\"Product:\\n\", product)\n"
      ],
      "metadata": {
        "colab": {
          "base_uri": "https://localhost:8080/"
        },
        "id": "QKqn5-Ah7RNj",
        "outputId": "b2787f70-e8ad-433c-99a0-3301ee1a77eb"
      },
      "execution_count": 7,
      "outputs": [
        {
          "output_type": "stream",
          "name": "stdout",
          "text": [
            "Matrix 1:\n",
            " [[2 3 3]\n",
            " [3 1 1]]\n",
            "Matrix 2:\n",
            " [[1 2 3 1]\n",
            " [4 2 4 1]\n",
            " [2 2 4 1]]\n",
            "Product:\n",
            " [[20 16 30  8]\n",
            " [ 9 10 17  5]]\n"
          ]
        }
      ]
    },
    {
      "cell_type": "markdown",
      "source": [
        "Створіть матрицю розміром 3x3, заповніть її випадковими цілими числами в діапазоні\n",
        "від 1 до 8 та знайдіть її обернену матрицю."
      ],
      "metadata": {
        "id": "LwFDSYcC7Z00"
      }
    },
    {
      "cell_type": "code",
      "source": [
        "import numpy as np\n",
        "\n",
        "matrix = np.random.randint(1, 9, (3, 3))\n",
        "inverse_matrix = np.linalg.inv(matrix)\n",
        "\n",
        "print(\"Matrix:\\n\", matrix)\n",
        "print(\"Inverse Matrix:\\n\", inverse_matrix)\n"
      ],
      "metadata": {
        "colab": {
          "base_uri": "https://localhost:8080/"
        },
        "id": "KzvLUC-y7aIF",
        "outputId": "4038b77e-c64b-4afe-8f16-1597ed96a8ab"
      },
      "execution_count": 8,
      "outputs": [
        {
          "output_type": "stream",
          "name": "stdout",
          "text": [
            "Matrix:\n",
            " [[8 1 6]\n",
            " [4 7 1]\n",
            " [2 5 8]]\n",
            "Inverse Matrix:\n",
            " [[ 0.12318841  0.0531401  -0.09903382]\n",
            " [-0.07246377  0.12560386  0.03864734]\n",
            " [ 0.01449275 -0.09178744  0.12560386]]\n"
          ]
        }
      ]
    },
    {
      "cell_type": "markdown",
      "source": [
        "Створіть матрицю розміром 4x4, заповніть її випадковими дійсними числами в\n",
        "діапазоні від 0 до 1 та транспонуйте її."
      ],
      "metadata": {
        "id": "kNza89Y47kBs"
      }
    },
    {
      "cell_type": "code",
      "source": [
        "import numpy as np\n",
        "\n",
        "matrix = np.random.rand(4, 4)\n",
        "transposed_matrix = matrix.T\n",
        "\n",
        "print(\"Matrix:\\n\", matrix)\n",
        "print(\"Transposed Matrix:\\n\", transposed_matrix)\n"
      ],
      "metadata": {
        "colab": {
          "base_uri": "https://localhost:8080/"
        },
        "id": "eat0MnZ17kSn",
        "outputId": "66cf8913-c961-4ac2-9991-c392a2b392dd"
      },
      "execution_count": 9,
      "outputs": [
        {
          "output_type": "stream",
          "name": "stdout",
          "text": [
            "Matrix:\n",
            " [[0.48723629 0.70185542 0.41406392 0.9081195 ]\n",
            " [0.31643859 0.30388344 0.41958363 0.75297003]\n",
            " [0.74033364 0.36998872 0.19449553 0.17453214]\n",
            " [0.46191649 0.42193653 0.14981099 0.78174007]]\n",
            "Transposed Matrix:\n",
            " [[0.48723629 0.31643859 0.74033364 0.46191649]\n",
            " [0.70185542 0.30388344 0.36998872 0.42193653]\n",
            " [0.41406392 0.41958363 0.19449553 0.14981099]\n",
            " [0.9081195  0.75297003 0.17453214 0.78174007]]\n"
          ]
        }
      ]
    },
    {
      "cell_type": "markdown",
      "source": [
        "Створіть матрицю розміром 3x4 та вектор розміром 4x1, заповніть матрицю\n",
        "випадковими дійсними числами від 0 до 1, а вектор - випадковими дійсними числами\n",
        "від 0 до 1, знайдіть добуток матриці на вектор."
      ],
      "metadata": {
        "id": "6Dkf0-nH7rMz"
      }
    },
    {
      "cell_type": "code",
      "source": [
        "import numpy as np\n",
        "\n",
        "matrix = np.random.rand(3, 4)\n",
        "vector = np.random.rand(4, 1)\n",
        "\n",
        "product = np.dot(matrix, vector)\n",
        "\n",
        "print(\"Matrix:\\n\", matrix)\n",
        "print(\"Vector:\\n\", vector)\n",
        "print(\"Product:\\n\", product)\n"
      ],
      "metadata": {
        "colab": {
          "base_uri": "https://localhost:8080/"
        },
        "id": "Iz1olvt37rda",
        "outputId": "9267f81c-b5aa-4841-856a-67f26b84bf0e"
      },
      "execution_count": 10,
      "outputs": [
        {
          "output_type": "stream",
          "name": "stdout",
          "text": [
            "Matrix:\n",
            " [[0.95717847 0.82655462 0.10790319 0.20899608]\n",
            " [0.18317883 0.56911878 0.88849687 0.8804123 ]\n",
            " [0.21663283 0.78525377 0.87159045 0.57805911]]\n",
            "Vector:\n",
            " [[0.57637007]\n",
            " [0.964252  ]\n",
            " [0.7559661 ]\n",
            " [0.48923688]]\n",
            "Product:\n",
            " [[1.53251572]\n",
            " [1.7567564 ]\n",
            " [1.82374387]]\n"
          ]
        }
      ]
    },
    {
      "cell_type": "markdown",
      "source": [
        "Створіть матрицю розміром 2x3 та вектор розміром 3x1, заповніть матрицю\n",
        "випадковими цілими числами в діапазоні від 1 до 10, а вектор - випадковими дійсними\n",
        "числами від 0 до 1, і знайдіть добуток матриці на вектор."
      ],
      "metadata": {
        "id": "bzAH7T5h71M8"
      }
    },
    {
      "cell_type": "code",
      "source": [
        "import numpy as np\n",
        "\n",
        "matrix = np.random.randint(1, 11, (2, 3))\n",
        "vector = np.random.rand(3, 1)\n",
        "\n",
        "product = np.dot(matrix, vector)\n",
        "\n",
        "print(\"Matrix:\\n\", matrix)\n",
        "print(\"Vector:\\n\", vector)\n",
        "print(\"Product:\\n\", product)\n"
      ],
      "metadata": {
        "colab": {
          "base_uri": "https://localhost:8080/"
        },
        "id": "VBUNUUql71gb",
        "outputId": "0ec2d9a8-1c77-4214-a684-bf1d674d8d7a"
      },
      "execution_count": 11,
      "outputs": [
        {
          "output_type": "stream",
          "name": "stdout",
          "text": [
            "Matrix:\n",
            " [[2 5 8]\n",
            " [1 6 7]]\n",
            "Vector:\n",
            " [[0.4548792 ]\n",
            " [0.99206038]\n",
            " [0.06217763]]\n",
            "Product:\n",
            " [[6.36748135]\n",
            " [6.8424849 ]]\n"
          ]
        }
      ]
    },
    {
      "cell_type": "markdown",
      "source": [
        "Створіть дві матриці розміром 7x7, заповніть їх випадковими цілими числами в\n",
        "діапазоні від 1 до 10 та знайдіть їхню різницю.\n"
      ],
      "metadata": {
        "id": "nQ13meFq7--m"
      }
    },
    {
      "cell_type": "code",
      "source": [
        "import numpy as np\n",
        "\n",
        "matrix1 = np.random.randint(1, 11, (7, 7))\n",
        "matrix2 = np.random.randint(1, 11, (7, 7))\n",
        "\n",
        "difference = matrix1 - matrix2\n",
        "\n",
        "print(\"Matrix 1:\\n\", matrix1)\n",
        "print(\"Matrix 2:\\n\", matrix2)\n",
        "print(\"Difference:\\n\", difference)\n"
      ],
      "metadata": {
        "colab": {
          "base_uri": "https://localhost:8080/"
        },
        "id": "wNR4Q59m7_UI",
        "outputId": "0155e309-390f-48ce-a3f5-d488b5792067"
      },
      "execution_count": 12,
      "outputs": [
        {
          "output_type": "stream",
          "name": "stdout",
          "text": [
            "Matrix 1:\n",
            " [[ 9  2  5  3 10  3  5]\n",
            " [ 9  2  7  8 10  8  7]\n",
            " [ 4  8  7  1  2  3  1]\n",
            " [ 9 10  4  3  6  5  8]\n",
            " [ 5  4  9  9  6  5  8]\n",
            " [ 2  7  6  4  7  3  7]\n",
            " [ 1  9 10  3  6  3  7]]\n",
            "Matrix 2:\n",
            " [[ 9  3  6 10  2 10  6]\n",
            " [ 6  6 10  2  7  1  1]\n",
            " [ 3  3  1  1 10  9  1]\n",
            " [ 6  7  1  8  6  5 10]\n",
            " [ 6  4  8  3  6  7  3]\n",
            " [10  5  4  8  5  6  9]\n",
            " [ 6  1  3  9  9  8  7]]\n",
            "Difference:\n",
            " [[ 0 -1 -1 -7  8 -7 -1]\n",
            " [ 3 -4 -3  6  3  7  6]\n",
            " [ 1  5  6  0 -8 -6  0]\n",
            " [ 3  3  3 -5  0  0 -2]\n",
            " [-1  0  1  6  0 -2  5]\n",
            " [-8  2  2 -4  2 -3 -2]\n",
            " [-5  8  7 -6 -3 -5  0]]\n"
          ]
        }
      ]
    },
    {
      "cell_type": "markdown",
      "source": [
        "Створіть дві матриці розміром 7x7, заповніть їх випадковими цілими числами в\n",
        "діапазоні від -10 до 10 та знайдіть суму їх елементів."
      ],
      "metadata": {
        "id": "F751iv4a8GpH"
      }
    },
    {
      "cell_type": "code",
      "source": [
        "import numpy as np\n",
        "\n",
        "matrix1 = np.random.randint(-10, 11, (7, 7))\n",
        "matrix2 = np.random.randint(-10, 11, (7, 7))\n",
        "\n",
        "sum_of_elements = np.sum(matrix1) + np.sum(matrix2)\n",
        "\n",
        "print(\"Matrix 1:\\n\", matrix1)\n",
        "print(\"Matrix 2:\\n\", matrix2)\n",
        "print(\"Sum of elements:\", sum_of_elements)\n",
        "\n"
      ],
      "metadata": {
        "colab": {
          "base_uri": "https://localhost:8080/"
        },
        "id": "avDmWKyu8G4m",
        "outputId": "4553b503-0dac-4df5-b51b-d3870d9d6e1a"
      },
      "execution_count": 14,
      "outputs": [
        {
          "output_type": "stream",
          "name": "stdout",
          "text": [
            "Matrix 1:\n",
            " [[-10  -3   4  -9  -4  -2 -10]\n",
            " [ -4   4   1  -3  -9   4  10]\n",
            " [  3  -5   7   2   0 -10   9]\n",
            " [  5   9   5  -1   7  -5   9]\n",
            " [  1   5  10  -3   2  10   7]\n",
            " [ -3   4  -9  -7  -8   2  -1]\n",
            " [  2   3  -6   1   4  -3   5]]\n",
            "Matrix 2:\n",
            " [[  8   7   3   1  10   5  -4]\n",
            " [  6   1  -6   8   5   8  -7]\n",
            " [-10  -6   2   6   5   6  -4]\n",
            " [  1   0   9  -7   7  -6  10]\n",
            " [ -8  -6   8 -10  -4  -5  -7]\n",
            " [  1   9  -9  -3   6   6   4]\n",
            " [ -5  -6   7   6   3   5  -2]]\n",
            "Sum of elements: 68\n"
          ]
        }
      ]
    },
    {
      "cell_type": "markdown",
      "source": [
        "Створіть матрицю розміром 3x3, заповніть її випадковими цілими числами в діапазоні\n",
        "від 1 до 10 та знайдіть середнє арифметичне значення елементів матриці."
      ],
      "metadata": {
        "id": "HdccZhiI8RJp"
      }
    },
    {
      "cell_type": "code",
      "source": [
        "import numpy as np\n",
        "\n",
        "matrix = np.random.randint(1, 11, (3, 3))\n",
        "mean_value = np.mean(matrix)\n",
        "\n",
        "print(\"Matrix:\\n\", matrix)\n",
        "print(\"Mean value:\", mean_value)\n"
      ],
      "metadata": {
        "colab": {
          "base_uri": "https://localhost:8080/"
        },
        "id": "zPhNFdwx8RXP",
        "outputId": "2a4b75dd-cea7-41e9-d5a1-11668bcfe945"
      },
      "execution_count": 15,
      "outputs": [
        {
          "output_type": "stream",
          "name": "stdout",
          "text": [
            "Matrix:\n",
            " [[ 9  3  5]\n",
            " [ 6  4 10]\n",
            " [ 9  4  6]]\n",
            "Mean value: 6.222222222222222\n"
          ]
        }
      ]
    },
    {
      "cell_type": "markdown",
      "source": [
        "Створіть матрицю розміром 8x8, заповніть її випадковими дійсними числами в\n",
        "діапазоні від -1 до 1 та знайдіть вектор-стовпчик, що містить найменший елемент у\n",
        "кожному рядку матриці."
      ],
      "metadata": {
        "id": "u_Tbu5Og8Y4U"
      }
    },
    {
      "cell_type": "code",
      "source": [
        "import numpy as np\n",
        "\n",
        "matrix = np.random.uniform(-1, 1, (8, 8))\n",
        "min_elements = np.min(matrix, axis=1).reshape(-1, 1)\n",
        "\n",
        "print(\"Matrix:\\n\", matrix)\n",
        "print(\"Column vector of minimum elements:\\n\", min_elements)\n"
      ],
      "metadata": {
        "colab": {
          "base_uri": "https://localhost:8080/"
        },
        "id": "QOYvnlm48ZFj",
        "outputId": "0088a014-1c94-4e9c-9488-cb49d45e74da"
      },
      "execution_count": 16,
      "outputs": [
        {
          "output_type": "stream",
          "name": "stdout",
          "text": [
            "Matrix:\n",
            " [[-0.57093995  0.9396601  -0.4472823   0.61675679 -0.27817695 -0.04955463\n",
            "  -0.0647473   0.33322399]\n",
            " [-0.99106943  0.89443601  0.17895789 -0.17424324  0.83227028  0.93317469\n",
            "   0.77384371  0.71223188]\n",
            " [-0.98271107 -0.7436523   0.58985279  0.37044008  0.02419235  0.27323714\n",
            "   0.72548909 -0.49330241]\n",
            " [ 0.78033195  0.95010786  0.62834391  0.14320539 -0.17711961  0.88347063\n",
            "  -0.2772651  -0.28450177]\n",
            " [-0.22208258 -0.27759031 -0.48868059 -0.75932412  0.67640536  0.5523497\n",
            "   0.24934214  0.57726273]\n",
            " [ 0.8054401  -0.87831655  0.85537084  0.01439018 -0.3512005  -0.32443025\n",
            "   0.02729303 -0.73302411]\n",
            " [-0.62358337  0.9976523   0.47459066  0.56685638  0.24295374 -0.35845887\n",
            "   0.97458335 -0.81364573]\n",
            " [-0.6103255   0.30944519  0.9613293   0.75086881  0.47325698  0.12924931\n",
            "   0.88206723  0.6810885 ]]\n",
            "Column vector of minimum elements:\n",
            " [[-0.57093995]\n",
            " [-0.99106943]\n",
            " [-0.98271107]\n",
            " [-0.28450177]\n",
            " [-0.75932412]\n",
            " [-0.87831655]\n",
            " [-0.81364573]\n",
            " [-0.6103255 ]]\n"
          ]
        }
      ]
    },
    {
      "cell_type": "markdown",
      "source": [
        "Висновок: навчився робити завдання з масивами"
      ],
      "metadata": {
        "id": "zPjpkIjZ8qqP"
      }
    }
  ]
}